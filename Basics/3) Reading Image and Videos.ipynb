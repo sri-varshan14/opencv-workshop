{
 "cells": [
  {
   "attachments": {},
   "cell_type": "markdown",
   "id": "fbb12d93",
   "metadata": {},
   "source": [
    "# Reading Image and Video "
   ]
  },
  {
   "cell_type": "code",
   "execution_count": 2,
   "id": "58475e04",
   "metadata": {},
   "outputs": [],
   "source": [
    "import cv2 as cv"
   ]
  },
  {
   "cell_type": "code",
   "execution_count": 3,
   "id": "0cd753a4",
   "metadata": {},
   "outputs": [
    {
     "name": "stdout",
     "output_type": "stream",
     "text": [
      "Image Saved\n"
     ]
    }
   ],
   "source": [
    "color_img = cv.imread('./../asserts/luffy_small.png',cv.IMREAD_COLOR)\n",
    "gray_img = cv.imread('./../asserts/luffy_small.png',cv.IMREAD_GRAYSCALE)\n",
    "while True:\n",
    "    cv.imshow('Color Image',color_img)\n",
    "    cv.imshow('GrayScale Image', gray_img)\n",
    "    if cv.waitKey(1) == ord('q'):\n",
    "        break\n",
    "cv.destroyAllWindows()\n",
    "if cv.imwrite('./../asserts/luffy_small_gray.png',gray_img):\n",
    "    print(\"Image Saved\") "
   ]
  },
  {
   "cell_type": "code",
   "execution_count": 4,
   "id": "75e11a76",
   "metadata": {},
   "outputs": [],
   "source": [
    "capture = cv.VideoCapture(0)\n",
    "while True:\n",
    "    isTrue, frame = capture.read()\n",
    "    cv.imshow('Video', frame)\n",
    "    if cv.waitKey(1) == ord('q'):\n",
    "        break\n",
    "cv.destroyAllWindows()\n",
    "capture.release()"
   ]
  },
  {
   "cell_type": "code",
   "execution_count": 9,
   "id": "2d6b10d4",
   "metadata": {},
   "outputs": [],
   "source": [
    "capture = cv.VideoCapture(0)\n",
    "capture.set(cv.CAP_PROP_FRAME_HEIGHT, 720)\n",
    "capture.set(cv.CAP_PROP_FRAME_WIDTH, 1080)\n",
    "while True:\n",
    "    isTrue, frame = capture.read()\n",
    "    cv.imshow('Video', frame)\n",
    "    if cv.waitKey(1) == ord('q'):\n",
    "        break\n",
    "cv.destroyAllWindows()\n",
    "capture.release()"
   ]
  },
  {
   "cell_type": "code",
   "execution_count": 19,
   "id": "049f5fc4",
   "metadata": {},
   "outputs": [
    {
     "name": "stderr",
     "output_type": "stream",
     "text": [
      "OpenCV: FFMPEG: tag 0x4745504d/'MPEG' is not supported with codec id 2 and format 'mp4 / MP4 (MPEG-4 Part 14)'\n",
      "OpenCV: FFMPEG: fallback to use tag 0x7634706d/'mp4v'\n"
     ]
    }
   ],
   "source": [
    "w=1080\n",
    "h=720\n",
    "capture = cv.VideoCapture(0)\n",
    "writter = cv.VideoWriter('./../asserts/cam_gray.mp4', cv.VideoWriter_fourcc(*'MPEG'), 30, (w,h))\n",
    "while True:\n",
    "    isTrue, frame = capture.read()\n",
    "    if isTrue:\n",
    "        cv.imshow('Video', frame)\n",
    "        frame = cv.cvtColor(frame,cv.COLOR_BGR2GRAY)\n",
    "        cv.imshow('Gray Video', frame)\n",
    "        writter.write(frame)\n",
    "    else:\n",
    "        print(\"Video Over\")\n",
    "        break\n",
    "    if cv.waitKey(1) == ord('q'):\n",
    "        break\n",
    "cv.destroyAllWindows()\n",
    "capture.release()\n",
    "writter.release()"
   ]
  },
  {
   "cell_type": "code",
   "execution_count": 6,
   "id": "fae8f079",
   "metadata": {},
   "outputs": [],
   "source": [
    "cv.destroyAllWindows()"
   ]
  },
  {
   "cell_type": "code",
   "execution_count": null,
   "id": "db0ea78e",
   "metadata": {},
   "outputs": [],
   "source": []
  }
 ],
 "metadata": {
  "kernelspec": {
   "display_name": "Python 3 (ipykernel)",
   "language": "python",
   "name": "python3"
  },
  "language_info": {
   "codemirror_mode": {
    "name": "ipython",
    "version": 3
   },
   "file_extension": ".py",
   "mimetype": "text/x-python",
   "name": "python",
   "nbconvert_exporter": "python",
   "pygments_lexer": "ipython3",
   "version": "3.10.0"
  }
 },
 "nbformat": 4,
 "nbformat_minor": 5
}
