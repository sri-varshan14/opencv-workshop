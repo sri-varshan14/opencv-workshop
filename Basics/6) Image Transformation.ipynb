{
 "cells": [
  {
   "cell_type": "code",
   "execution_count": 1,
   "id": "6c079b65",
   "metadata": {},
   "outputs": [],
   "source": [
    "import cv2 as cv\n",
    "import numpy as np"
   ]
  },
  {
   "cell_type": "code",
   "execution_count": 4,
   "id": "79a7cda5",
   "metadata": {},
   "outputs": [],
   "source": [
    "\n",
    "img = cv.imread('./../asserts/luffy.png',cv.IMREAD_COLOR)\n",
    "while True:\n",
    "    \n",
    "    cv.imshow('Original Image',img)\n",
    "    \n",
    "    cv.imshow('Resized Image',shifted = cv2.warpAffine(image, M, (image.shape[1], image.shape[0])))\n",
    "    if cv.waitKey(1) == ord('q'):\n",
    "        break\n",
    "cv.destroyAllWindows()"
   ]
  },
  {
   "cell_type": "code",
   "execution_count": 9,
   "id": "13798801",
   "metadata": {},
   "outputs": [],
   "source": [
    "def rescale(img, scaling_factor=0.5):\n",
    "    width = int(img.shape[1] * scaling_factor)\n",
    "    height = int(img.shape[0] * scaling_factor)\n",
    "\n",
    "    return cv.resize(img, (width,height))\n",
    "\n",
    "img = cv.imread('./../asserts/luffy.png',cv.IMREAD_COLOR)\n",
    "while True:\n",
    "    \n",
    "    cv.imshow('Original Image',img)\n",
    "    \n",
    "    cv.imshow('Resized Image',rescale(img, 0.3))\n",
    "    if cv.waitKey(1) == ord('q'):\n",
    "        break\n",
    "cv.destroyAllWindows()"
   ]
  },
  {
   "cell_type": "code",
   "execution_count": 11,
   "id": "54d20707",
   "metadata": {},
   "outputs": [],
   "source": [
    "img = cv.imread('./../asserts/luffy_small.png',cv.IMREAD_COLOR)\n",
    "while True:\n",
    "    \n",
    "    cv.imshow('Original Image',img)\n",
    "    \n",
    "    cv.imshow('Rotated Image',cv.rotate(img,cv.ROTATE_90_CLOCKWISE))\n",
    "    if cv.waitKey(1) == ord('q'):\n",
    "        break\n",
    "cv.destroyAllWindows()"
   ]
  },
  {
   "cell_type": "code",
   "execution_count": 17,
   "id": "18522393",
   "metadata": {},
   "outputs": [],
   "source": [
    "img = cv.imread('./../asserts/luffy_small.png',cv.IMREAD_COLOR)\n",
    "while True:\n",
    "    \n",
    "    cv.imshow('Original Image',img)\n",
    "    M = np.float32([\n",
    "        [1, 0, 25],\n",
    "        [0, 1, 50]\n",
    "    ])\n",
    "    cv.imshow('Shifted right down Image', cv.warpAffine(img, M, (img.shape[1], img.shape[0])))\n",
    "    M = np.float32([\n",
    "        [1, 0, -20],\n",
    "        [0, 1, 50]\n",
    "    ])\n",
    "    cv.imshow('Shifted left down Image', cv.warpAffine(img, M, (img.shape[1], img.shape[0])))\n",
    "    M = np.float32([\n",
    "        [1, 0, -20],\n",
    "        [0, 1, -50]\n",
    "    ])\n",
    "    cv.imshow('Shifted left up Image', cv.warpAffine(img, M, (img.shape[1], img.shape[0])))\n",
    "    if cv.waitKey(1) == ord('q'):\n",
    "        break\n",
    "cv.destroyAllWindows()"
   ]
  },
  {
   "cell_type": "code",
   "execution_count": 19,
   "id": "37a63368",
   "metadata": {},
   "outputs": [],
   "source": [
    "img = cv.imread('./../asserts/luffy_small.png',cv.IMREAD_COLOR)\n",
    "while True:\n",
    "    \n",
    "    cv.imshow('Original Image',img)\n",
    "    \n",
    "    cv.imshow('Fliped Vertically Image',cv.flip(img,0))\n",
    "    cv.imshow('Fliped Mirror Image',cv.flip(img,1))\n",
    "    if cv.waitKey(1) == ord('q'):\n",
    "        break\n",
    "cv.destroyAllWindows()"
   ]
  },
  {
   "cell_type": "code",
   "execution_count": 21,
   "id": "c9bbfe02",
   "metadata": {},
   "outputs": [],
   "source": [
    "img = cv.imread('./../asserts/luffy_small.png',cv.IMREAD_COLOR)\n",
    "while True:\n",
    "    \n",
    "    cv.imshow('Original Image',img)\n",
    "    \n",
    "    cv.imshow('Cropped Image',img[:img.shape[0]//2,:img.shape[1]//2,:])\n",
    "    \n",
    "    if cv.waitKey(1) == ord('q'):\n",
    "        break\n",
    "cv.destroyAllWindows()"
   ]
  },
  {
   "cell_type": "code",
   "execution_count": 24,
   "id": "c2045b17",
   "metadata": {},
   "outputs": [],
   "source": [
    "img = cv.imread('./../asserts/luffy_small.png',cv.IMREAD_COLOR)\n",
    "while True:\n",
    "    \n",
    "    cv.imshow('Original Image',img)\n",
    "    \n",
    "    b,g,r = cv.split(img)\n",
    "    \n",
    "    cv.imshow('B',b)\n",
    "    cv.imshow('G',g)\n",
    "    cv.imshow('R',r)\n",
    "    \n",
    "    if cv.waitKey(1) == ord('q'):\n",
    "        break\n",
    "cv.destroyAllWindows()"
   ]
  },
  {
   "cell_type": "code",
   "execution_count": 28,
   "id": "fcd0c167",
   "metadata": {},
   "outputs": [],
   "source": [
    "img = cv.imread('./../asserts/luffy_small.png',cv.IMREAD_COLOR)\n",
    "while True:\n",
    "    \n",
    "    cv.imshow('Original Image',img)\n",
    "    \n",
    "    b,g,r = cv.split(img)\n",
    "    \n",
    "    cv.imshow('B',b)\n",
    "    cv.imshow('G',g)\n",
    "    cv.imshow('R',r)\n",
    "    \n",
    "    merged_img = cv.merge((b,g,r))\n",
    "    \n",
    "    cv.imshow('Merged Image', merged_img)\n",
    "    if cv.waitKey(1) == ord('q'):\n",
    "        break\n",
    "cv.destroyAllWindows()"
   ]
  },
  {
   "cell_type": "code",
   "execution_count": 53,
   "id": "08512b46",
   "metadata": {},
   "outputs": [],
   "source": [
    "w=200\n",
    "h=200\n",
    "img1 = np.zeros(w*h).reshape((w,h))\n",
    "img1[:,50:150] = 255\n",
    "img2 = np.zeros(w*h).reshape((w,h))\n",
    "img2[50:150,:] = 255\n",
    "while True:\n",
    "    cv.imshow('Image1', img1)\n",
    "    cv.imshow('Image2', img2)\n",
    "    \n",
    "    cv.imshow(\"Bitwise AND\",cv.bitwise_and(img1,img2))\n",
    "    cv.imshow(\"Bitwise OR\",cv.bitwise_or(img1,img2))\n",
    "    cv.imshow(\"Bitwise XOR\",cv.bitwise_xor(img1,img2))\n",
    "    \n",
    "    if cv.waitKey(1) == ord('q'):\n",
    "        break\n",
    "cv.destroyAllWindows()"
   ]
  },
  {
   "cell_type": "code",
   "execution_count": null,
   "id": "fdbc09fa",
   "metadata": {},
   "outputs": [],
   "source": []
  }
 ],
 "metadata": {
  "kernelspec": {
   "display_name": "Python 3 (ipykernel)",
   "language": "python",
   "name": "python3"
  },
  "language_info": {
   "codemirror_mode": {
    "name": "ipython",
    "version": 3
   },
   "file_extension": ".py",
   "mimetype": "text/x-python",
   "name": "python",
   "nbconvert_exporter": "python",
   "pygments_lexer": "ipython3",
   "version": "3.10.0"
  }
 },
 "nbformat": 4,
 "nbformat_minor": 5
}
