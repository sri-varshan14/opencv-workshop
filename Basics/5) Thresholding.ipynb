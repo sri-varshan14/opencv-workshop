{
 "cells": [
  {
   "cell_type": "code",
   "execution_count": 1,
   "id": "7f725077",
   "metadata": {},
   "outputs": [],
   "source": [
    "import cv2 as cv\n",
    "import numpy as np"
   ]
  },
  {
   "cell_type": "code",
   "execution_count": 8,
   "id": "6c32092d",
   "metadata": {},
   "outputs": [],
   "source": [
    "img = cv.imread('./../asserts/gradient.jpg',cv.IMREAD_GRAYSCALE)\n",
    "while True:\n",
    "    cv.imshow('Image',img)\n",
    "    \n",
    "    ret,thresh1 = cv.threshold(img,127,255,cv.THRESH_BINARY)\n",
    "    ret,thresh2 = cv.threshold(img,127,255,cv.THRESH_BINARY_INV)\n",
    "    ret,thresh3 = cv.threshold(img,127,255,cv.THRESH_TRUNC)\n",
    "    ret,thresh4 = cv.threshold(img,127,255,cv.THRESH_TOZERO)\n",
    "    ret,thresh5 = cv.threshold(img,127,255,cv.THRESH_TOZERO_INV)\n",
    "    \n",
    "    cv.imshow('Thresh Binary', thresh1)\n",
    "    cv.imshow('Thresh Binary Inverse', thresh2)\n",
    "    cv.imshow('Thresh Trunc ', thresh3)\n",
    "    cv.imshow('Thresh To zero ', thresh4)\n",
    "    cv.imshow('Thresh To zero inverse', thresh5)\n",
    "    if cv.waitKey(1) == ord('q'):\n",
    "        break\n",
    "cv.destroyAllWindows()"
   ]
  },
  {
   "cell_type": "code",
   "execution_count": 10,
   "id": "53c23ae2",
   "metadata": {},
   "outputs": [],
   "source": [
    "img = cv.imread('./../asserts/luffy_small.png',cv.IMREAD_GRAYSCALE)\n",
    "while True:\n",
    "    cv.imshow('Image',img)\n",
    "    \n",
    "    ret,thresh1 = cv.threshold(img,127,255,cv.THRESH_BINARY)\n",
    "    \n",
    "    cv.imshow('Thresh Binary', thresh1)\n",
    "    \n",
    "    if cv.waitKey(1) == ord('q'):\n",
    "        break\n",
    "cv.destroyAllWindows()"
   ]
  },
  {
   "cell_type": "code",
   "execution_count": 15,
   "id": "6390a831",
   "metadata": {},
   "outputs": [],
   "source": [
    "img = cv.imread('./../asserts/luffy_small.png',cv.IMREAD_GRAYSCALE)\n",
    "while True:\n",
    "    cv.imshow('Image',img)\n",
    "    \n",
    "    thresh1 = cv.adaptiveThreshold(img,255,cv.ADAPTIVE_THRESH_MEAN_C, cv.THRESH_BINARY, 11, 2)\n",
    "    \n",
    "    cv.imshow('Thresh Binary', thresh1)\n",
    "    \n",
    "    if cv.waitKey(1) == ord('q'):\n",
    "        break\n",
    "cv.destroyAllWindows()"
   ]
  },
  {
   "cell_type": "code",
   "execution_count": 25,
   "id": "a07531d5",
   "metadata": {},
   "outputs": [],
   "source": [
    "img = cv.imread('./../asserts/luffy_small.png',cv.IMREAD_GRAYSCALE)\n",
    "cv.imshow('Image',img)\n",
    "\n",
    "img = cv.GaussianBlur(img,(5,5),0)\n",
    "thresh1 = cv.adaptiveThreshold(img,255,cv.ADAPTIVE_THRESH_MEAN_C, cv.THRESH_BINARY, 15, 2)\n",
    "thresh2 = cv.adaptiveThreshold(img,255,cv.ADAPTIVE_THRESH_GAUSSIAN_C, cv.THRESH_BINARY, 15, 2)\n",
    "\n",
    "cv.imshow('Adaptive Thresh - Mean', thresh1)\n",
    "cv.imshow('Adaptive Thresh - Gaussian', thresh2)\n",
    "    \n",
    "while True:\n",
    "\n",
    "    if cv.waitKey(1) == ord('q'):\n",
    "        break\n",
    "cv.destroyAllWindows()"
   ]
  },
  {
   "cell_type": "code",
   "execution_count": 20,
   "id": "0f848d00",
   "metadata": {},
   "outputs": [],
   "source": [
    "cv.destroyAllWindows()"
   ]
  },
  {
   "cell_type": "code",
   "execution_count": null,
   "id": "519e6f63",
   "metadata": {},
   "outputs": [],
   "source": []
  }
 ],
 "metadata": {
  "kernelspec": {
   "display_name": "Python 3 (ipykernel)",
   "language": "python",
   "name": "python3"
  },
  "language_info": {
   "codemirror_mode": {
    "name": "ipython",
    "version": 3
   },
   "file_extension": ".py",
   "mimetype": "text/x-python",
   "name": "python",
   "nbconvert_exporter": "python",
   "pygments_lexer": "ipython3",
   "version": "3.10.0"
  }
 },
 "nbformat": 4,
 "nbformat_minor": 5
}
