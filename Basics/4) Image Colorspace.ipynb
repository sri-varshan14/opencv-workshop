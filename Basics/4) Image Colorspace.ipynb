{
 "cells": [
  {
   "cell_type": "code",
   "execution_count": 1,
   "id": "58b5c8f9",
   "metadata": {},
   "outputs": [],
   "source": [
    "import cv2 as cv\n",
    "import numpy as np"
   ]
  },
  {
   "cell_type": "code",
   "execution_count": 8,
   "id": "c02562f7",
   "metadata": {},
   "outputs": [],
   "source": [
    "img = cv.imread(\"./../asserts/luffy_small.png\", cv.IMREAD_COLOR)\n",
    "while True:\n",
    "    cv.imshow(\"Original Image\", img)\n",
    "    cv.imshow(\"Grayscale Image\", cv.cvtColor(img,cv.COLOR_BGR2GRAY))\n",
    "    cv.imshow(\"BGR Image\", cv.cvtColor(img,cv.COLOR_BGR2RGB))\n",
    "    cv.imshow(\"HSV Image\", cv.cvtColor(img,cv.COLOR_BGR2HSV))\n",
    "    if cv.waitKey(1) == ord('q'):\n",
    "        break\n",
    "cv.destroyAllWindows()"
   ]
  },
  {
   "cell_type": "code",
   "execution_count": null,
   "id": "90c21255",
   "metadata": {},
   "outputs": [],
   "source": []
  }
 ],
 "metadata": {
  "kernelspec": {
   "display_name": "Python 3 (ipykernel)",
   "language": "python",
   "name": "python3"
  },
  "language_info": {
   "codemirror_mode": {
    "name": "ipython",
    "version": 3
   },
   "file_extension": ".py",
   "mimetype": "text/x-python",
   "name": "python",
   "nbconvert_exporter": "python",
   "pygments_lexer": "ipython3",
   "version": "3.10.0"
  }
 },
 "nbformat": 4,
 "nbformat_minor": 5
}
