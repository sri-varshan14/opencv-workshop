{
 "cells": [
  {
   "cell_type": "markdown",
   "id": "d8e6b577",
   "metadata": {},
   "source": [
    "# Image Representation"
   ]
  },
  {
   "cell_type": "markdown",
   "id": "f898a455",
   "metadata": {},
   "source": [
    "* Pixels\n",
    "* Channels\n",
    "* Images\n",
    "* Dimensions\n",
    "* height\n",
    "* width"
   ]
  },
  {
   "cell_type": "code",
   "execution_count": 9,
   "id": "7c41738c",
   "metadata": {},
   "outputs": [],
   "source": [
    "# Importing OpenCV\n",
    "import cv2 as cv\n",
    "import numpy as np"
   ]
  },
  {
   "cell_type": "code",
   "execution_count": 4,
   "id": "d3328e6c",
   "metadata": {},
   "outputs": [],
   "source": [
    "# A function that takes image as input to scale the image\n",
    "def rescale(img, scale_factor = 0.5):\n",
    "    \n",
    "    height = int(img.shape[0]*scale_factor)\n",
    "    width = int(img.shape[1]*scale_factor)\n",
    "\n",
    "    return cv.resize(img,(width,height), interpolation=cv.INTER_AREA)"
   ]
  },
  {
   "cell_type": "code",
   "execution_count": 5,
   "id": "63898a24",
   "metadata": {},
   "outputs": [
    {
     "data": {
      "text/plain": [
       "True"
      ]
     },
     "execution_count": 5,
     "metadata": {},
     "output_type": "execute_result"
    }
   ],
   "source": [
    "img = cv.imread(\"./../asserts/luffy.png\", cv.IMREAD_COLOR)\n",
    "while True:\n",
    "    cv.imshow(\"Image\", rescale(img, 0.3))\n",
    "    if cv.waitKey(1) == ord('q'):\n",
    "        break\n",
    "cv.destroyAllWindows()\n",
    "cv.imwrite(\"./../asserts/luffy_small.png\",rescale(img,0.3))"
   ]
  },
  {
   "cell_type": "code",
   "execution_count": 6,
   "id": "6b0cc283",
   "metadata": {},
   "outputs": [
    {
     "name": "stdout",
     "output_type": "stream",
     "text": [
      "Image Resolution :  (1800, 3200)\n",
      "Number of Channels :  3\n"
     ]
    }
   ],
   "source": [
    "print(\"Image Resolution : \",img.shape[:2])\n",
    "print(\"Number of Channels : \",img.shape[-1])"
   ]
  },
  {
   "cell_type": "code",
   "execution_count": 7,
   "id": "b3771535",
   "metadata": {},
   "outputs": [
    {
     "name": "stdout",
     "output_type": "stream",
     "text": [
      "Image: \n",
      "[[[ 40   4  34]\n",
      "  [ 40   4  34]\n",
      "  [ 40   4  34]\n",
      "  ...\n",
      "  [ 59  25   1]\n",
      "  [ 59  25   1]\n",
      "  [ 59  25   1]]\n",
      "\n",
      " [[ 40   4  34]\n",
      "  [ 40   4  34]\n",
      "  [ 40   4  34]\n",
      "  ...\n",
      "  [ 59  25   1]\n",
      "  [ 59  25   1]\n",
      "  [ 59  25   1]]\n",
      "\n",
      " [[ 40   4  34]\n",
      "  [ 40   4  34]\n",
      "  [ 40   4  34]\n",
      "  ...\n",
      "  [ 58  24   0]\n",
      "  [ 58  24   0]\n",
      "  [ 58  24   0]]\n",
      "\n",
      " ...\n",
      "\n",
      " [[ 50   1 115]\n",
      "  [ 51   2 116]\n",
      "  [ 51   2 116]\n",
      "  ...\n",
      "  [ 46  49   0]\n",
      "  [ 46  49   0]\n",
      "  [ 46  49   0]]\n",
      "\n",
      " [[ 50   1 115]\n",
      "  [ 50   1 115]\n",
      "  [ 51   2 116]\n",
      "  ...\n",
      "  [ 46  49   0]\n",
      "  [ 46  49   0]\n",
      "  [ 46  49   0]]\n",
      "\n",
      " [[ 50   1 117]\n",
      "  [ 50   1 115]\n",
      "  [ 51   2 116]\n",
      "  ...\n",
      "  [ 48  48   0]\n",
      "  [ 48  48   0]\n",
      "  [ 48  48   0]]]\n"
     ]
    }
   ],
   "source": [
    "print(\"Image: \")\n",
    "print(img)"
   ]
  },
  {
   "cell_type": "code",
   "execution_count": 8,
   "id": "0dd3afd9",
   "metadata": {},
   "outputs": [],
   "source": [
    "img = cv.imread(\"./../asserts/luffy_small.png\", cv.IMREAD_COLOR)\n",
    "\n",
    "while True:\n",
    "    cv.imshow(\"Image\", img)\n",
    "    cv.imshow(\"blue\", img[:,:,0])\n",
    "    cv.imshow(\"green\", img[:,:,1])\n",
    "    cv.imshow(\"red\", img[:,:,2])\n",
    "    if cv.waitKey(1) == ord('q'):\n",
    "        break\n",
    "cv.destroyAllWindows()"
   ]
  },
  {
   "cell_type": "code",
   "execution_count": 24,
   "id": "05b57fac",
   "metadata": {},
   "outputs": [],
   "source": [
    "w = 120\n",
    "h=120\n",
    "img = np.zeros(w*h*3).reshape((w,h,3))\n",
    "\n",
    "img[:w//3,:,0] = 255\n",
    "img[w//3:2*w//3,:,1] = 255\n",
    "img[2*w//3:,:,2] = 255\n",
    "\n",
    "while True:\n",
    "    cv.imshow(\"Image\", img)\n",
    "    cv.imshow(\"blue\", img[:,:,0])\n",
    "    cv.imshow(\"green\", img[:,:,1])\n",
    "    cv.imshow(\"red\", img[:,:,2])\n",
    "    if cv.waitKey(1) == ord('q'):\n",
    "        break\n",
    "cv.destroyAllWindows()"
   ]
  },
  {
   "cell_type": "code",
   "execution_count": 17,
   "id": "85d6127d",
   "metadata": {},
   "outputs": [],
   "source": [
    "cv.destroyAllWindows()"
   ]
  },
  {
   "cell_type": "code",
   "execution_count": null,
   "id": "55c4e52c",
   "metadata": {},
   "outputs": [],
   "source": []
  }
 ],
 "metadata": {
  "kernelspec": {
   "display_name": "Python 3 (ipykernel)",
   "language": "python",
   "name": "python3"
  },
  "language_info": {
   "codemirror_mode": {
    "name": "ipython",
    "version": 3
   },
   "file_extension": ".py",
   "mimetype": "text/x-python",
   "name": "python",
   "nbconvert_exporter": "python",
   "pygments_lexer": "ipython3",
   "version": "3.10.0"
  }
 },
 "nbformat": 4,
 "nbformat_minor": 5
}
