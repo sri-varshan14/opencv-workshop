{
 "cells": [
  {
   "cell_type": "code",
   "execution_count": 1,
   "id": "8e298daf",
   "metadata": {},
   "outputs": [],
   "source": [
    "import cv2 as cv"
   ]
  },
  {
   "cell_type": "code",
   "execution_count": 26,
   "id": "fbeb6381",
   "metadata": {},
   "outputs": [],
   "source": [
    "luffy_img = cv.imread(\"asserts/luffy.png\")"
   ]
  },
  {
   "cell_type": "code",
   "execution_count": 27,
   "id": "cece4b42",
   "metadata": {},
   "outputs": [
    {
     "name": "stdout",
     "output_type": "stream",
     "text": [
      "(1800, 3200, 3)\n"
     ]
    }
   ],
   "source": [
    "print(luffy_img.shape)"
   ]
  },
  {
   "cell_type": "code",
   "execution_count": 28,
   "id": "cf7854f8",
   "metadata": {},
   "outputs": [
    {
     "name": "stdout",
     "output_type": "stream",
     "text": [
      "[[[ 40   4  34]\n",
      "  [ 40   4  34]\n",
      "  [ 40   4  34]\n",
      "  ...\n",
      "  [ 59  25   1]\n",
      "  [ 59  25   1]\n",
      "  [ 59  25   1]]\n",
      "\n",
      " [[ 40   4  34]\n",
      "  [ 40   4  34]\n",
      "  [ 40   4  34]\n",
      "  ...\n",
      "  [ 59  25   1]\n",
      "  [ 59  25   1]\n",
      "  [ 59  25   1]]\n",
      "\n",
      " [[ 40   4  34]\n",
      "  [ 40   4  34]\n",
      "  [ 40   4  34]\n",
      "  ...\n",
      "  [ 58  24   0]\n",
      "  [ 58  24   0]\n",
      "  [ 58  24   0]]\n",
      "\n",
      " ...\n",
      "\n",
      " [[ 50   1 115]\n",
      "  [ 51   2 116]\n",
      "  [ 51   2 116]\n",
      "  ...\n",
      "  [ 46  49   0]\n",
      "  [ 46  49   0]\n",
      "  [ 46  49   0]]\n",
      "\n",
      " [[ 50   1 115]\n",
      "  [ 50   1 115]\n",
      "  [ 51   2 116]\n",
      "  ...\n",
      "  [ 46  49   0]\n",
      "  [ 46  49   0]\n",
      "  [ 46  49   0]]\n",
      "\n",
      " [[ 50   1 117]\n",
      "  [ 50   1 115]\n",
      "  [ 51   2 116]\n",
      "  ...\n",
      "  [ 48  48   0]\n",
      "  [ 48  48   0]\n",
      "  [ 48  48   0]]]\n"
     ]
    }
   ],
   "source": [
    "print(luffy_img)"
   ]
  },
  {
   "cell_type": "code",
   "execution_count": 29,
   "id": "1e976ea9",
   "metadata": {},
   "outputs": [],
   "source": [
    "luffy_img = cv.imread(\"asserts/luffy.png\")\n",
    "cv.imshow(\"Image\", luffy_img)\n",
    "while True:\n",
    "    if cv.waitKey(1) == ord('q'):\n",
    "        break\n",
    "cv.destroyAllWindows()"
   ]
  },
  {
   "cell_type": "code",
   "execution_count": 40,
   "id": "ed95fbca",
   "metadata": {},
   "outputs": [],
   "source": [
    "capture = cv.VideoCapture(\"/dev/video0\")\n",
    "capture.set(cv.CAP_PROP_FRAME_HEIGHT, 720)\n",
    "capture.set(cv.CAP_PROP_FRAME_WIDTH, 1080)\n",
    "while True:\n",
    "    isTrue, frame = capture.read()\n",
    "    cv.imshow('WebCam',frame)\n",
    "    if cv.waitKey(1) == ord('q'):\n",
    "        break\n",
    "cv.destroyAllWindows()\n",
    "capture.release()"
   ]
  },
  {
   "cell_type": "code",
   "execution_count": 3,
   "id": "d6731689",
   "metadata": {},
   "outputs": [],
   "source": [
    "def rescale_img(img, scale=0.75):\n",
    "    width = int(img.shape[1] * scale)\n",
    "    height = int(img.shape[0] * scale)\n",
    "    \n",
    "    result_dim = (width,height)\n",
    "    \n",
    "    return cv.resize(img,result_dim, interpolation=cv.INTER_AREA)"
   ]
  },
  {
   "cell_type": "code",
   "execution_count": 38,
   "id": "4b94a8e9",
   "metadata": {},
   "outputs": [],
   "source": [
    "luffy_img = cv.imread(\"asserts/luffy.png\")\n",
    "cv.imshow(\"Image\", rescale_img(luffy_img, 0.25))\n",
    "while True:\n",
    "    if cv.waitKey(1) == ord('q'):\n",
    "        break\n",
    "cv.destroyAllWindows()"
   ]
  },
  {
   "cell_type": "markdown",
   "id": "d11d4966",
   "metadata": {},
   "source": [
    "Drawing shapes"
   ]
  },
  {
   "cell_type": "code",
   "execution_count": 42,
   "id": "aeb0c685",
   "metadata": {},
   "outputs": [],
   "source": [
    "#conversion\n",
    "luffy_img = cv.imread(\"asserts/luffy.png\")\n",
    "\n",
    "luffy_img = cv.cvtColor(luffy_img,cv.COLOR_BGR2GRAY)\n",
    "luffy_img = rescale_img(luffy_img, 0.25)\n",
    "cv.imshow(\"Image\", luffy_img)\n",
    "while True:\n",
    "    if cv.waitKey(1) == ord('q'):\n",
    "        break\n",
    "cv.destroyAllWindows()\n"
   ]
  },
  {
   "cell_type": "code",
   "execution_count": 46,
   "id": "ee2e152e",
   "metadata": {},
   "outputs": [],
   "source": [
    "#blur, bilateral, medianBlur\n",
    "luffy_img = cv.imread(\"asserts/luffy.png\")\n",
    "\n",
    "luffy_img = rescale_img(luffy_img, 0.25)\n",
    "cv.imshow(\"Orginal Image\", luffy_img)\n",
    "luffy_img = cv.GaussianBlur(luffy_img, (7,7), cv.BORDER_DEFAULT)\n",
    "cv.imshow(\"Blur_img\", luffy_img)\n",
    "\n",
    "while True:\n",
    "    if cv.waitKey(1) == ord('q'):\n",
    "        break\n",
    "cv.destroyAllWindows()"
   ]
  },
  {
   "cell_type": "code",
   "execution_count": 76,
   "id": "b5dc8693",
   "metadata": {},
   "outputs": [],
   "source": [
    "# thresholding "
   ]
  },
  {
   "cell_type": "code",
   "execution_count": 6,
   "id": "45d2138a",
   "metadata": {},
   "outputs": [],
   "source": [
    "#canny, laplacian, sobel\n",
    "luffy_img = cv.imread(\"asserts/luffy.png\")\n",
    "\n",
    "luffy_img = cv.GaussianBlur(luffy_img, (7,7), cv.BORDER_DEFAULT)\n",
    "luffy_img = cv.Canny(luffy_img, 30,200)\n",
    "luffy_img = rescale_img(luffy_img, 0.25)\n",
    "\n",
    "cv.imshow(\"canny\", luffy_img)\n",
    "\n",
    "while True:\n",
    "    if cv.waitKey(1) == ord('q'):\n",
    "        break\n",
    "cv.destroyAllWindows()"
   ]
  },
  {
   "cell_type": "code",
   "execution_count": 61,
   "id": "30967c0f",
   "metadata": {},
   "outputs": [],
   "source": [
    "cv.destroyAllWindows()"
   ]
  },
  {
   "cell_type": "code",
   "execution_count": 2,
   "id": "d48662a0",
   "metadata": {},
   "outputs": [
    {
     "ename": "NameError",
     "evalue": "name 'rescale_img' is not defined",
     "output_type": "error",
     "traceback": [
      "\u001b[0;31m---------------------------------------------------------------------------\u001b[0m",
      "\u001b[0;31mNameError\u001b[0m                                 Traceback (most recent call last)",
      "Cell \u001b[0;32mIn[2], line 6\u001b[0m\n\u001b[1;32m      4\u001b[0m luffy_img \u001b[38;5;241m=\u001b[39m cv\u001b[38;5;241m.\u001b[39mGaussianBlur(luffy_img, (\u001b[38;5;241m7\u001b[39m,\u001b[38;5;241m7\u001b[39m), cv\u001b[38;5;241m.\u001b[39mBORDER_DEFAULT)\n\u001b[1;32m      5\u001b[0m luffy_img \u001b[38;5;241m=\u001b[39m cv\u001b[38;5;241m.\u001b[39mCanny(luffy_img, \u001b[38;5;241m30\u001b[39m,\u001b[38;5;241m200\u001b[39m)\n\u001b[0;32m----> 6\u001b[0m cv\u001b[38;5;241m.\u001b[39mimshow(\u001b[38;5;124m\"\u001b[39m\u001b[38;5;124mcanny\u001b[39m\u001b[38;5;124m\"\u001b[39m, \u001b[43mrescale_img\u001b[49m(luffy_img,\u001b[38;5;241m0.25\u001b[39m))\n\u001b[1;32m      7\u001b[0m cv\u001b[38;5;241m.\u001b[39mimshow(\u001b[38;5;124m\"\u001b[39m\u001b[38;5;124mimg\u001b[39m\u001b[38;5;124m\"\u001b[39m, rescale_img(cv\u001b[38;5;241m.\u001b[39mdilate(luffy_img, (\u001b[38;5;241m7\u001b[39m,\u001b[38;5;241m7\u001b[39m),iterations\u001b[38;5;241m=\u001b[39m\u001b[38;5;241m6\u001b[39m) \u001b[38;5;241m-\u001b[39m cv\u001b[38;5;241m.\u001b[39merode(luffy_img, (\u001b[38;5;241m7\u001b[39m,\u001b[38;5;241m7\u001b[39m),iterations\u001b[38;5;241m=\u001b[39m\u001b[38;5;241m6\u001b[39m),\u001b[38;5;241m0.25\u001b[39m))\n\u001b[1;32m      8\u001b[0m luffy_img \u001b[38;5;241m=\u001b[39m cv\u001b[38;5;241m.\u001b[39mdilate(luffy_img, (\u001b[38;5;241m7\u001b[39m,\u001b[38;5;241m7\u001b[39m),iterations\u001b[38;5;241m=\u001b[39m\u001b[38;5;241m6\u001b[39m)\n",
      "\u001b[0;31mNameError\u001b[0m: name 'rescale_img' is not defined"
     ]
    }
   ],
   "source": [
    "#morphological\n",
    "luffy_img = cv.imread(\"asserts/luffy.png\")\n",
    "\n",
    "luffy_img = cv.GaussianBlur(luffy_img, (7,7), cv.BORDER_DEFAULT)\n",
    "luffy_img = cv.Canny(luffy_img, 30,200)\n",
    "cv.imshow(\"canny\", rescale_img(luffy_img,0.25))\n",
    "cv.imshow(\"img\", rescale_img(cv.dilate(luffy_img, (7,7),iterations=6) - cv.erode(luffy_img, (7,7),iterations=6),0.25))\n",
    "luffy_img = cv.dilate(luffy_img, (7,7),iterations=6)\n",
    "# cv.imshow(\"dilate_img\", rescale_img(luffy_img,0.25))\n",
    "luffy_img = cv.erode(luffy_img, (7,7),iterations=6)\n",
    "# cv.imshow(\"erode_img\", rescale_img(luffy_img,0.25))\n",
    "\n",
    "\n",
    "while True:\n",
    "    if cv.waitKey(1) == ord('q'):\n",
    "        break\n",
    "cv.destroyAllWindows()"
   ]
  },
  {
   "cell_type": "code",
   "execution_count": 75,
   "id": "37decc9f",
   "metadata": {},
   "outputs": [],
   "source": [
    "# warpAffine, rotate, transulate, flip, crop\n",
    "import cv2\n",
    "import numpy as np\n",
    "\n",
    "# Load the input image\n",
    "img = cv2.imread('asserts/luffy.png')\n",
    "\n",
    "# Define the affine transformation matrix\n",
    "M = np.float32([[1, 0, 50], [0, 1, 25]])\n",
    "\n",
    "# Apply the affine transformation with warpAffine\n",
    "dst = cv2.warpAffine(img, M, (img.shape[1], img.shape[0]))\n",
    "\n",
    "# Display the input and transformed images\n",
    "cv2.imshow('Input', img)\n",
    "cv2.imshow('Output', dst)\n",
    "while True:\n",
    "    if cv.waitKey(1) == ord('q'):\n",
    "        break\n",
    "cv.destroyAllWindows()\n"
   ]
  },
  {
   "cell_type": "code",
   "execution_count": 77,
   "id": "b79ae87f",
   "metadata": {},
   "outputs": [],
   "source": [
    "# split, merge"
   ]
  },
  {
   "cell_type": "code",
   "execution_count": 78,
   "id": "a11063e0",
   "metadata": {},
   "outputs": [],
   "source": [
    "# Bitwise operation"
   ]
  },
  {
   "cell_type": "code",
   "execution_count": 79,
   "id": "b59ae1a2",
   "metadata": {},
   "outputs": [],
   "source": [
    "#histogram"
   ]
  },
  {
   "cell_type": "code",
   "execution_count": null,
   "id": "c11d4114",
   "metadata": {},
   "outputs": [],
   "source": []
  }
 ],
 "metadata": {
  "kernelspec": {
   "display_name": "Python 3 (ipykernel)",
   "language": "python",
   "name": "python3"
  },
  "language_info": {
   "codemirror_mode": {
    "name": "ipython",
    "version": 3
   },
   "file_extension": ".py",
   "mimetype": "text/x-python",
   "name": "python",
   "nbconvert_exporter": "python",
   "pygments_lexer": "ipython3",
   "version": "3.10.0"
  }
 },
 "nbformat": 4,
 "nbformat_minor": 5
}
