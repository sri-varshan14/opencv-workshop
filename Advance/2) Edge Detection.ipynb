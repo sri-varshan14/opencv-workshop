{
 "cells": [
  {
   "cell_type": "code",
   "execution_count": 1,
   "id": "146d89ca",
   "metadata": {},
   "outputs": [],
   "source": [
    "import cv2 as cv\n",
    "import numpy as np"
   ]
  },
  {
   "cell_type": "code",
   "execution_count": 5,
   "id": "e6bc0eb0",
   "metadata": {},
   "outputs": [],
   "source": [
    "img = cv.imread(\"./../asserts/luffy_small.png\", cv.IMREAD_GRAYSCALE)\n",
    "while True:\n",
    "    edges = cv.Canny(img,100,200)\n",
    "    cv.imshow('Canny', edges)\n",
    "    cv.imshow('Canny Inverse', cv.bitwise_not(edges))\n",
    "    if cv.waitKey(1) == ord('q'):\n",
    "        break\n",
    "cv.destroyAllWindows()"
   ]
  },
  {
   "cell_type": "code",
   "execution_count": 15,
   "id": "45c17c48",
   "metadata": {},
   "outputs": [],
   "source": [
    "img = cv.imread(\"./../asserts/luffy_small.png\", cv.IMREAD_GRAYSCALE)\n",
    "img_blur = cv.GaussianBlur(img, (7,7), 0)\n",
    "while True:\n",
    "    edges = cv.Sobel(src=img_blur, ddepth=cv.CV_8U, dx=1, dy=0, ksize=5)\n",
    "    cv.imshow('Sobel X',edges)\n",
    "    edges = cv.Sobel(src=img_blur, ddepth=cv.CV_8U, dx=0, dy=1, ksize=5)\n",
    "    cv.imshow('Sobel Y',edges)\n",
    "    edges = cv.Sobel(src=img_blur, ddepth=cv.CV_8U, dx=1, dy=1, ksize=5)\n",
    "    cv.imshow('Sobel XY',edges)\n",
    "    if cv.waitKey(1) == ord('q'):\n",
    "        break\n",
    "cv.destroyAllWindows()"
   ]
  },
  {
   "cell_type": "code",
   "execution_count": 16,
   "id": "bfcd267e",
   "metadata": {},
   "outputs": [],
   "source": [
    "img = cv.imread(\"./../asserts/luffy_small.png\", cv.IMREAD_GRAYSCALE)\n",
    "img_blur = cv.GaussianBlur(img, (7,7), 0)\n",
    "while True:\n",
    "    edges = cv.Laplacian(img_blur, cv.CV_8U, ksize=3)\n",
    "    cv.imshow('Laplacian',edges)\n",
    "    if cv.waitKey(1) == ord('q'):\n",
    "        break\n",
    "cv.destroyAllWindows()"
   ]
  },
  {
   "cell_type": "code",
   "execution_count": null,
   "id": "7b9990b9",
   "metadata": {},
   "outputs": [],
   "source": []
  }
 ],
 "metadata": {
  "kernelspec": {
   "display_name": "Python 3 (ipykernel)",
   "language": "python",
   "name": "python3"
  },
  "language_info": {
   "codemirror_mode": {
    "name": "ipython",
    "version": 3
   },
   "file_extension": ".py",
   "mimetype": "text/x-python",
   "name": "python",
   "nbconvert_exporter": "python",
   "pygments_lexer": "ipython3",
   "version": "3.10.0"
  }
 },
 "nbformat": 4,
 "nbformat_minor": 5
}
