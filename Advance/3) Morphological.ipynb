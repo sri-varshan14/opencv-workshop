{
 "cells": [
  {
   "cell_type": "code",
   "execution_count": 1,
   "id": "43699e2f",
   "metadata": {},
   "outputs": [],
   "source": [
    "import cv2 as cv\n",
    "import numpy as np"
   ]
  },
  {
   "cell_type": "code",
   "execution_count": 4,
   "id": "7f89d734",
   "metadata": {},
   "outputs": [],
   "source": [
    "img = cv.imread(\"./../asserts/luffy_small.png\", cv.IMREAD_GRAYSCALE)\n",
    "kernel = np.ones((5,5),np.uint8)\n",
    "while True:\n",
    "    edges = cv.Canny(img,100,200)\n",
    "    cv.imshow('Canny', edges)\n",
    "    cv.imshow('Canny Inverse', cv.bitwise_not(edges))\n",
    "    cv.imshow('Erode',cv.erode(cv.bitwise_not(edges),kernel,iterations = 1))\n",
    "    if cv.waitKey(1) == ord('q'):\n",
    "        break\n",
    "cv.destroyAllWindows()"
   ]
  },
  {
   "cell_type": "code",
   "execution_count": 9,
   "id": "5db884f1",
   "metadata": {},
   "outputs": [],
   "source": [
    "img = cv.imread(\"./../asserts/luffy_small.png\", cv.IMREAD_GRAYSCALE)\n",
    "kernel = np.ones((5,5),np.uint8)\n",
    "while True:\n",
    "    edges = cv.Canny(img,100,200)\n",
    "    cv.imshow('Canny', edges)\n",
    "    inv_edge = cv.bitwise_not(edges)\n",
    "    cv.imshow('Canny Inverse', inv_edge)\n",
    "    erode = cv.erode(inv_edge,kernel,iterations = 1)\n",
    "    cv.imshow('Erode',erode)\n",
    "    dilate = cv.dilate(erode, kernel, iterations=1)\n",
    "    cv.imshow('Dilate',dilate)\n",
    "    if cv.waitKey(1) == ord('q'):\n",
    "        break\n",
    "cv.destroyAllWindows()"
   ]
  }
 ],
 "metadata": {
  "kernelspec": {
   "display_name": "Python 3 (ipykernel)",
   "language": "python",
   "name": "python3"
  },
  "language_info": {
   "codemirror_mode": {
    "name": "ipython",
    "version": 3
   },
   "file_extension": ".py",
   "mimetype": "text/x-python",
   "name": "python",
   "nbconvert_exporter": "python",
   "pygments_lexer": "ipython3",
   "version": "3.10.0"
  }
 },
 "nbformat": 4,
 "nbformat_minor": 5
}
