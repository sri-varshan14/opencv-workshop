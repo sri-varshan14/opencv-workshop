{
 "cells": [
  {
   "cell_type": "code",
   "execution_count": 1,
   "id": "6c617d80",
   "metadata": {},
   "outputs": [],
   "source": [
    "import cv2 as cv\n",
    "import numpy as np"
   ]
  },
  {
   "cell_type": "code",
   "execution_count": 5,
   "id": "d20f60a5",
   "metadata": {},
   "outputs": [],
   "source": [
    "img = cv.imread('./../asserts/luffy_small.png',cv.IMREAD_COLOR)\n",
    "while True:\n",
    "    blur = cv.blur(img,(5,5))\n",
    "    cv.imshow('original image', img)\n",
    "    cv.imshow('Avg blur', blur)\n",
    "    if cv.waitKey(1) == ord('q'):\n",
    "        break\n",
    "cv.destroyAllWindows()"
   ]
  },
  {
   "cell_type": "code",
   "execution_count": 6,
   "id": "4044d23d",
   "metadata": {},
   "outputs": [],
   "source": [
    "img = cv.imread('./../asserts/luffy_small.png',cv.IMREAD_COLOR)\n",
    "while True:\n",
    "    blur = cv.GaussianBlur(img,(5,5),0)\n",
    "    cv.imshow('original image', img)\n",
    "    cv.imshow('Avg blur', blur)\n",
    "    if cv.waitKey(1) == ord('q'):\n",
    "        break\n",
    "cv.destroyAllWindows()"
   ]
  },
  {
   "cell_type": "code",
   "execution_count": 7,
   "id": "d822e492",
   "metadata": {},
   "outputs": [],
   "source": [
    "img = cv.imread('./../asserts/luffy_small.png',cv.IMREAD_COLOR)\n",
    "while True:\n",
    "    blur = cv.medianBlur(img,5)\n",
    "    cv.imshow('original image', img)\n",
    "    cv.imshow('Avg blur', blur)\n",
    "    if cv.waitKey(1) == ord('q'):\n",
    "        break\n",
    "cv.destroyAllWindows()"
   ]
  },
  {
   "cell_type": "code",
   "execution_count": 13,
   "id": "38dc38fb",
   "metadata": {},
   "outputs": [],
   "source": [
    "img = cv.imread('./../asserts/luffy_small.png',cv.IMREAD_COLOR)\n",
    "while True:\n",
    "    kernel = np.ones(5*5).reshape((5,5))/25\n",
    "    blur = cv.filter2D(img,-1,kernel)\n",
    "    cv.imshow('original image', img)\n",
    "    cv.imshow('blur', blur)\n",
    "    if cv.waitKey(1) == ord('q'):\n",
    "        break\n",
    "cv.destroyAllWindows()"
   ]
  },
  {
   "cell_type": "code",
   "execution_count": null,
   "id": "0ff7a4a5",
   "metadata": {},
   "outputs": [],
   "source": []
  }
 ],
 "metadata": {
  "kernelspec": {
   "display_name": "Python 3 (ipykernel)",
   "language": "python",
   "name": "python3"
  },
  "language_info": {
   "codemirror_mode": {
    "name": "ipython",
    "version": 3
   },
   "file_extension": ".py",
   "mimetype": "text/x-python",
   "name": "python",
   "nbconvert_exporter": "python",
   "pygments_lexer": "ipython3",
   "version": "3.10.0"
  }
 },
 "nbformat": 4,
 "nbformat_minor": 5
}
